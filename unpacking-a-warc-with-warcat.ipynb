{
 "cells": [
  {
   "cell_type": "markdown",
   "metadata": {},
   "source": [
    "Unpacking a WARC with Warcat\n",
    "--------------------------------\n",
    "\n",
    "In this ntoebook, you will see how to extract web resources from WARC files as individual files.\n",
    "\n",
    "We will use the [Warcat](https://pypi.org/project/Warcat/) Python package that provides tools for managing WARC files.\n",
    "\n",
    "First, we need to install Warcat.\n",
    "\n",
    "## Installation\n",
    "\n",
    "You can install Warcat with the following command.  Note that, as is standard in Jupyter notebooks, all shell commands are prefixed with a `!`, and we're only using command-line programs here.\n"
   ]
  },
  {
   "cell_type": "code",
   "execution_count": 2,
   "metadata": {},
   "outputs": [
    {
     "name": "stdout",
     "output_type": "stream",
     "text": [
      "Collecting Warcat\n",
      "  Using cached https://files.pythonhosted.org/packages/51/78/3abb1702eae1ac1dec44a0d1d366ff10394679894b7a2acc6b6efd0db898/Warcat-2.2.5.tar.gz\n",
      "Collecting isodate (from Warcat)\n",
      "  Using cached https://files.pythonhosted.org/packages/9b/9f/b36f7774ff5ea8e428fdcfc4bb332c39ee5b9362ddd3d40d9516a55221b2/isodate-0.6.0-py2.py3-none-any.whl\n",
      "Requirement already satisfied: six in /opt/conda/lib/python3.7/site-packages (from isodate->Warcat) (1.12.0)\n",
      "Building wheels for collected packages: Warcat\n",
      "  Building wheel for Warcat (setup.py) ... \u001b[?25ldone\n",
      "\u001b[?25h  Created wheel for Warcat: filename=Warcat-2.2.5-cp37-none-any.whl size=34778 sha256=206557e1a2816979e0f9e17e817bc71b40e2099e64e383525b84d19bf2594b71\n",
      "  Stored in directory: /home/anj/.cache/pip/wheels/66/3a/66/b507615861da008d33d8a8db9d54a032dd9bfbb0137baac73c\n",
      "Successfully built Warcat\n",
      "Installing collected packages: isodate, Warcat\n",
      "Successfully installed Warcat-2.2.5 isodate-0.6.0\n"
     ]
    }
   ],
   "source": [
    "!pip install Warcat"
   ]
  },
  {
   "cell_type": "markdown",
   "metadata": {},
   "source": [
    "### Check it's working\n",
    "\n",
    "Once it's installed, you can check it's working by looking at the command-line options:"
   ]
  },
  {
   "cell_type": "code",
   "execution_count": 19,
   "metadata": {},
   "outputs": [
    {
     "name": "stdout",
     "output_type": "stream",
     "text": [
      "usage: __main__.py [-h] [--version] [--output FILE] [--gzip]\r\n",
      "                   [--force-read-gzip] [--verbose] [--record RECORD]\r\n",
      "                   [--preserve-block] [--output-dir OUTPUT_DIR] [--progress]\r\n",
      "                   [--keep-going]\r\n",
      "                   command [file [file ...]]\r\n",
      "\r\n",
      "Tool for handling Web ARChive (WARC) files.\r\n",
      "\r\n",
      "positional arguments:\r\n",
      "  command               A command to run. Use \"help\" for a list.\r\n",
      "  file                  Filename of file to be read.\r\n",
      "\r\n",
      "optional arguments:\r\n",
      "  -h, --help            show this help message and exit\r\n",
      "  --version             show program's version number and exit\r\n",
      "  --output FILE, -o FILE\r\n",
      "                        Output to FILE instead of standard out\r\n",
      "  --gzip, -z            When outputting a file, use gzip compression\r\n",
      "  --force-read-gzip     Instead of guessing by filename, force reading\r\n",
      "                        archives as gzip compressed\r\n",
      "  --verbose             Increase verbosity. Can be used more than once.\r\n",
      "  --record RECORD       Apply command to record with given ID when reading.\r\n",
      "                        Can be used more than once.\r\n",
      "  --preserve-block      Don't attempt to parse content blocks. Parsed content\r\n",
      "                        blocks may not match content-length and hash digests\r\n",
      "                        on serialization.\r\n",
      "  --output-dir OUTPUT_DIR, -d OUTPUT_DIR\r\n",
      "                        For output operations that make multiple files, use\r\n",
      "                        given directory instead of current working directory.\r\n",
      "  --progress            Show progress or activity\r\n",
      "  --keep-going          Continue processing records despite errors\r\n",
      "\r\n",
      "Commands:\r\n",
      "concat\r\n",
      "    Naively join archives into one\r\n",
      "extract\r\n",
      "    Extract files from archive\r\n",
      "help\r\n",
      "    List commands available\r\n",
      "list\r\n",
      "    List contents of archive\r\n",
      "pass\r\n",
      "    Load archive and write it back out\r\n",
      "split\r\n",
      "    Split archives into individual records\r\n",
      "verify\r\n",
      "    Verify digest and validate conformance\r\n"
     ]
    }
   ],
   "source": [
    "!python -m warcat -h"
   ]
  },
  {
   "cell_type": "markdown",
   "metadata": {},
   "source": [
    "## Extraction \n",
    "\n",
    "We need a WARC to experiment with. This notebook comes with a suitable WARC that contains a copy of [a page from Wikipedia](https://en.wikipedia.org/wiki/Mona_Lisa) from 2013. \n",
    "\n",
    "Now we can go on to inspect and unpack the WARC file. The following command will unpack the test WARC into a folder called `unpacked-warc`.\n"
   ]
  },
  {
   "cell_type": "code",
   "execution_count": 4,
   "metadata": {},
   "outputs": [],
   "source": [
    "!python -m warcat extract example-warcs/flashfrozen-jwat-recompressed.warc.gz --output-dir unpacked-warc"
   ]
  },
  {
   "cell_type": "markdown",
   "metadata": {},
   "source": [
    "This works silently. If you want more feedback, you could try:\n",
    "\n",
    "    python -m warcat extract [input.warc.gz] --output-dir unpacked-warc --progress\n",
    "\n",
    "or\n",
    "\n",
    "    python -m warcat extract [input.warc.gz] --output-dir unpacked-warc --verbose\n",
    "   \n",
    "Once unpacked, we can easily list all the files:"
   ]
  },
  {
   "cell_type": "code",
   "execution_count": 12,
   "metadata": {
    "scrolled": true
   },
   "outputs": [
    {
     "name": "stdout",
     "output_type": "stream",
     "text": [
      "unpacked-warc/bits.wikimedia.org/images/wikimedia-button.png\r\n",
      "unpacked-warc/bits.wikimedia.org/static-1.21wmf6/skins/common/images/magnify-clip.png\r\n",
      "unpacked-warc/bits.wikimedia.org/static-1.21wmf6/skins/common/images/poweredby_mediawiki_88x31.png\r\n",
      "unpacked-warc/bits.wikimedia.org/static-1.21wmf6/skins/vector/images/search-ltr.png_303-4\r\n",
      "unpacked-warc/bits.wikimedia.org/geoiplookup\r\n",
      "unpacked-warc/bits.wikimedia.org/en.wikipedia.org/load.php_debug=false&lang=en&modules=ext.gadget.DRN-wizard,ReferenceTooltips,charinsert,teahouse%7Cext.wikihiero%7Cmediawiki.legacy.commonPrint,shared%7Cmw.PopU_e0af80\r\n",
      "unpacked-warc/bits.wikimedia.org/en.wikipedia.org/load.php_debug=false&lang=en&modules=jquery.ui.button,core,dialog,draggable,mouse,position,resizable,widget&skin=vector&version=20121210T190559Z&_\r\n",
      "unpacked-warc/bits.wikimedia.org/en.wikipedia.org/load.php_debug=false&lang=en&modules=ext.Experiments.experiments,lib%7Cext.UserBuckets,eventLogging,markAsHelpful,postEdit%7Cext.articleFeedback.startup%7Cext.a_2775b0\r\n",
      "unpacked-warc/bits.wikimedia.org/en.wikipedia.org/load.php_debug=false&lang=en&modules=ext.vector.footerCleanup&skin=vector&version=20130103T024703Z&_\r\n",
      "unpacked-warc/bits.wikimedia.org/en.wikipedia.org/load.php_debug=false&lang=en&modules=ext.vector.collapsibleNav,collapsibleTabs,editWarning&skin=vector&version=20130103T024715Z&_\r\n",
      "unpacked-warc/bits.wikimedia.org/en.wikipedia.org/load.php_debug=false&lang=en&modules=ext.centralNotice.bannerController%7Cext.wikimediaShopLink.core%7Cjquery.client,cookie,mwExtension%7Cmediawiki.cldr,jqueryM_d7123e\r\n",
      "unpacked-warc/bits.wikimedia.org/en.wikipedia.org/load.php_debug=false&lang=en&modules=startup&only=scripts&skin=vector&_\r\n",
      "unpacked-warc/bits.wikimedia.org/en.wikipedia.org/load.php_debug=false&lang=en&modules=skins.vector&only=scripts&skin=vector&_\r\n",
      "unpacked-warc/bits.wikimedia.org/en.wikipedia.org/load.php_debug=false&lang=en&modules=ext.articleFeedback%7Cext.articleFeedback.ratingi18n%7Cjquery.appear,articleFeedback,localize,tipsy&skin=vector&version=201_ef3894\r\n",
      "unpacked-warc/bits.wikimedia.org/en.wikipedia.org/load.php_debug=false&lang=en&modules=site&only=scripts&skin=vector&_\r\n",
      "unpacked-warc/bits.wikimedia.org/en.wikipedia.org/load.php_debug=false&lang=en&modules=jquery,mediawiki,Spinner%7Cjquery.triggerQueueCallback,loadingSpinner,mwEmbedUtil%7Cmw.MwEmbedSupport&only=scripts&skin=vec_198790\r\n",
      "unpacked-warc/bits.wikimedia.org/en.wikipedia.org/load.php_debug=false&lang=en&modules=site&only=styles&skin=vector&_\r\n",
      "unpacked-warc/meta.wikimedia.org/wiki/Special_BannerRandom_userlang=en&sitename=Wikipedia&project=wikipedia&anonymous=true&bucket=1&country=GB&slot=25\r\n",
      "unpacked-warc/meta.wikimedia.org/wiki/Special_RecordImpression_result=hide&reason=empty&country=GB&userlang=en&project=wikipedia&db=enwiki&sitename=Wikipedia&bucket=1\r\n",
      "unpacked-warc/upload.wikimedia.org/wikipedia/commons/thumb/e/e8/Mona_Lisa_margin_scribble.jpg/220px-Mona_Lisa_margin_scribble.jpg\r\n",
      "unpacked-warc/upload.wikimedia.org/wikipedia/commons/thumb/f/f9/Leonardo_da_Vinci_-_Self-Portrait_-_WGA12798.jpg/170px-Leonardo_da_Vinci_-_Self-Portrait_-_WGA12798.jpg\r\n",
      "unpacked-warc/upload.wikimedia.org/wikipedia/commons/thumb/f/f9/Mona_Lisa,_by_Leonardo_da_Vinci,_from_C2RMF_natural_color.jpg/250px-Mona_Lisa,_by_Leonardo_da_Vinci,_from_C2RMF_natural_color.jpg\r\n",
      "unpacked-warc/upload.wikimedia.org/wikipedia/commons/thumb/f/f8/Mona_Lisa_stolen-1911.jpg/220px-Mona_Lisa_stolen-1911.jpg\r\n",
      "unpacked-warc/upload.wikimedia.org/wikipedia/commons/thumb/f/fc/Padlock-silver.svg/20px-Padlock-silver.svg.png\r\n",
      "unpacked-warc/upload.wikimedia.org/wikipedia/commons/thumb/c/c9/Mona-lisa_in_the_Louvre.jpg/220px-Mona-lisa_in_the_Louvre.jpg\r\n",
      "unpacked-warc/upload.wikimedia.org/wikipedia/commons/thumb/c/c1/Mona_Lisa_detail_hands.jpg/220px-Mona_Lisa_detail_hands.jpg\r\n",
      "unpacked-warc/upload.wikimedia.org/wikipedia/commons/thumb/c/cd/WPVA-khamsa.svg/22px-WPVA-khamsa.svg.png\r\n",
      "unpacked-warc/upload.wikimedia.org/wikipedia/commons/thumb/8/86/Mona_Lisa_detail_background_right.jpg/170px-Mona_Lisa_detail_background_right.jpg\r\n",
      "unpacked-warc/upload.wikimedia.org/wikipedia/commons/thumb/8/89/ARC194219.png/220px-ARC194219.png\r\n",
      "unpacked-warc/upload.wikimedia.org/wikipedia/commons/thumb/1/16/Sapeck-La_Joconde_fumant_la_pipe.jpg/100px-Sapeck-La_Joconde_fumant_la_pipe.jpg\r\n",
      "unpacked-warc/upload.wikimedia.org/wikipedia/commons/d/d4/Monobook-bullet-star.png\r\n",
      "unpacked-warc/upload.wikimedia.org/wikipedia/commons/4/42/Monobook-bullet-ga.png\r\n",
      "unpacked-warc/upload.wikimedia.org/wikipedia/en/thumb/6/6e/Marcel_Duchamp_Mona_Lisa_LHOOQ.jpg/100px-Marcel_Duchamp_Mona_Lisa_LHOOQ.jpg\r\n",
      "unpacked-warc/upload.wikimedia.org/wikipedia/en/thumb/4/4a/Commons-logo.svg/13px-Commons-logo.svg.png\r\n",
      "unpacked-warc/upload.wikimedia.org/wikipedia/en/thumb/4/4a/Commons-logo.svg/9px-Commons-logo.svg.png\r\n",
      "unpacked-warc/upload.wikimedia.org/wikipedia/en/b/bc/Wiki.png\r\n",
      "unpacked-warc/en.wikipedia.org/wiki/Mona_Lisa\r\n",
      "unpacked-warc/en.wikipedia.org/w/index.php_title=MediaWiki_Gadget-ReferenceTooltips.js&action=raw&ctype=text_javascript&508635914\r\n"
     ]
    }
   ],
   "source": [
    "!find unpacked-warc -type f"
   ]
  },
  {
   "cell_type": "markdown",
   "metadata": {},
   "source": [
    "And do fancy command-line stuff if you like.  e.g. if `file` is installed, you could do:\n",
    "\n",
    "    file unpacked-warc -type f -exec file {} \\;\n",
    "\n",
    "This would examine every file and report the format it appears to  be.\n",
    "\n",
    "\n",
    "## Verification\n",
    "\n",
    "The Warcat package also has a WARC verification option:"
   ]
  },
  {
   "cell_type": "code",
   "execution_count": 18,
   "metadata": {},
   "outputs": [
    {
     "name": "stdout",
     "output_type": "stream",
     "text": [
      "Record <urn:uuid:2A7045F9-87FF-4EBA-88B3-D801A17A0FBE> failed validation\r\n",
      "Traceback (most recent call last):\r\n",
      "  File \"/opt/conda/lib/python3.7/site-packages/warcat/tool.py\", line 282, in action\r\n",
      "    action(record)\r\n",
      "  File \"/opt/conda/lib/python3.7/site-packages/warcat/tool.py\", line 304, in verify_id_uniqueness\r\n",
      "    raise VerifyProblem('Duplicate record ID.')\r\n",
      "warcat.tool.VerifyProblem: ('Duplicate record ID.', None, True)\r\n",
      "Validation failed. Problems: 1.\r\n"
     ]
    }
   ],
   "source": [
    "!python -m warcat verify example-warcs/flashfrozen-jwat-recompressed.warc.gz"
   ]
  },
  {
   "cell_type": "markdown",
   "metadata": {},
   "source": [
    "Interestingly, this revealed an issue with the WARC Record ID's in this file!\n"
   ]
  },
  {
   "cell_type": "code",
   "execution_count": null,
   "metadata": {},
   "outputs": [],
   "source": []
  }
 ],
 "metadata": {
  "kernelspec": {
   "display_name": "Python 3",
   "language": "python",
   "name": "python3"
  },
  "language_info": {
   "codemirror_mode": {
    "name": "ipython",
    "version": 3
   },
   "file_extension": ".py",
   "mimetype": "text/x-python",
   "name": "python",
   "nbconvert_exporter": "python",
   "pygments_lexer": "ipython3",
   "version": "3.7.3"
  }
 },
 "nbformat": 4,
 "nbformat_minor": 2
}
