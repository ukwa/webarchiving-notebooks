{
 "cells": [
  {
   "cell_type": "markdown",
   "metadata": {},
   "source": [
    "Using CDX APIs\n",
    "=============\n",
    "\n",
    "This notebook uses our CDX APIs (internally accessible only at present) to look up URL status.\n"
   ]
  },
  {
   "cell_type": "code",
   "execution_count": 1,
   "metadata": {},
   "outputs": [
    {
     "data": {
      "application/vnd.jupyter.widget-view+json": {
       "model_id": "57048e12e424406a958f08710cd00c6a",
       "version_major": 2,
       "version_minor": 0
      },
      "text/plain": [
       "interactive(children=(Text(value='http://www.bl.uk/', description='URL:', layout=Layout(width='60%'), placehol…"
      ]
     },
     "metadata": {},
     "output_type": "display_data"
    }
   ],
   "source": [
    "from ipywidgets import interact_manual, interact\n",
    "from IPython.display import display, HTML\n",
    "import ipywidgets as widgets\n",
    "import requests\n",
    "\n",
    "def lookup_cdx(url, cdx_service):\n",
    "    results = \"\"#\"<h2>Results</h2>\"\n",
    "    #r = requests.get(cdx_service, params = { 'url' : url, 'limit': 10, 'sort': 'reverse'} )\n",
    "    #r = requests.get(\"https://www.webarchive.org.uk/wayback/archive/timemap/json/%s\" % url)\n",
    "    r = requests.get(\"https://web.archive.org/web/timemap/json/%s\" % url)\n",
    "    results += \"<pre>%s</pre>\" % r.text\n",
    "    return HTML(results)\n",
    "\n",
    "\n",
    "# Set up the interactive UI elements:\n",
    "manual_interact = interact.options(manual=True, manual_name=\"Look up URL\") # Rename the button\n",
    "manual_interact(\n",
    "    lookup_cdx,\n",
    "         url = widgets.Text(\n",
    "            placeholder='http://www.bl.uk/',\n",
    "            value='http://www.bl.uk/',\n",
    "            description='URL:',\n",
    "            disabled=False,\n",
    "            layout=widgets.Layout(width='60%')\n",
    "         ),\n",
    "         cdx_service = widgets.Dropdown(\n",
    "             options=[\n",
    "                 ('Access CDX', 'http://192.168.45.21:8080/data-heritrix'),\n",
    "                 ('Access CDX (TEST)', 'http://192.168.45.21:9090/data-heritrix'),\n",
    "                 ('Frequent Crawl CDX', 'http://192.168.45.21:9090/fc'),\n",
    "                 ('Domain Crawl CDX (2018)', 'http://192.168.45.21:9090/dc-2018-1'),\n",
    "                 ('Domain Crawl CDX (2019)', 'http://192.168.45.21:9090/dc-2019')\n",
    "             ],\n",
    "             description=\"CDX Service:\"\n",
    "         )\n",
    ");"
   ]
  },
  {
   "cell_type": "code",
   "execution_count": null,
   "metadata": {},
   "outputs": [],
   "source": []
  }
 ],
 "metadata": {
  "kernelspec": {
   "display_name": "Python 3",
   "language": "python",
   "name": "python3"
  },
  "language_info": {
   "codemirror_mode": {
    "name": "ipython",
    "version": 3
   },
   "file_extension": ".py",
   "mimetype": "text/x-python",
   "name": "python",
   "nbconvert_exporter": "python",
   "pygments_lexer": "ipython3",
   "version": "3.6.7"
  }
 },
 "nbformat": 4,
 "nbformat_minor": 2
}
